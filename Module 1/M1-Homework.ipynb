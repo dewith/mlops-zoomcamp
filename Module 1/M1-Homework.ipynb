{
 "cells": [
  {
   "cell_type": "markdown",
   "metadata": {},
   "source": [
    "# Module 1 Homework"
   ]
  },
  {
   "cell_type": "code",
   "execution_count": 1,
   "metadata": {
    "execution": {
     "iopub.execute_input": "2022-05-24T06:28:07.017870Z",
     "iopub.status.busy": "2022-05-24T06:28:07.015859Z",
     "iopub.status.idle": "2022-05-24T06:28:13.199058Z",
     "shell.execute_reply": "2022-05-24T06:28:13.197074Z",
     "shell.execute_reply.started": "2022-05-24T06:28:07.017870Z"
    },
    "tags": []
   },
   "outputs": [],
   "source": [
    "import numpy as np\n",
    "import pandas as pd\n",
    "import seaborn as sns\n",
    "import matplotlib.pyplot as plt\n",
    "\n",
    "from sklearn.feature_extraction import DictVectorizer\n",
    "from sklearn.linear_model import LinearRegression\n",
    "from sklearn.metrics import mean_squared_error"
   ]
  },
  {
   "cell_type": "code",
   "execution_count": 2,
   "metadata": {
    "execution": {
     "iopub.execute_input": "2022-05-24T06:28:13.202059Z",
     "iopub.status.busy": "2022-05-24T06:28:13.201076Z",
     "iopub.status.idle": "2022-05-24T06:28:13.714184Z",
     "shell.execute_reply": "2022-05-24T06:28:13.713173Z",
     "shell.execute_reply.started": "2022-05-24T06:28:13.202059Z"
    },
    "tags": []
   },
   "outputs": [],
   "source": [
    "data = pd.read_parquet(r\"Data\\fhv_tripdata_2021-01.parquet\")"
   ]
  },
  {
   "cell_type": "code",
   "execution_count": 3,
   "metadata": {
    "execution": {
     "iopub.execute_input": "2022-05-24T06:28:13.717754Z",
     "iopub.status.busy": "2022-05-24T06:28:13.716176Z",
     "iopub.status.idle": "2022-05-24T06:28:14.519213Z",
     "shell.execute_reply": "2022-05-24T06:28:14.517835Z",
     "shell.execute_reply.started": "2022-05-24T06:28:13.717754Z"
    },
    "tags": []
   },
   "outputs": [
    {
     "name": "stdout",
     "output_type": "stream",
     "text": [
      "<class 'pandas.core.frame.DataFrame'>\n",
      "RangeIndex: 1154112 entries, 0 to 1154111\n",
      "Data columns (total 7 columns):\n",
      " #   Column                  Non-Null Count    Dtype         \n",
      "---  ------                  --------------    -----         \n",
      " 0   dispatching_base_num    1154112 non-null  object        \n",
      " 1   pickup_datetime         1154112 non-null  datetime64[ns]\n",
      " 2   dropOff_datetime        1154112 non-null  datetime64[ns]\n",
      " 3   PUlocationID            195845 non-null   float64       \n",
      " 4   DOlocationID            991892 non-null   float64       \n",
      " 5   SR_Flag                 0 non-null        object        \n",
      " 6   Affiliated_base_number  1153227 non-null  object        \n",
      "dtypes: datetime64[ns](2), float64(2), object(3)\n",
      "memory usage: 61.6+ MB\n"
     ]
    }
   ],
   "source": [
    "data.info()"
   ]
  },
  {
   "cell_type": "markdown",
   "metadata": {},
   "source": [
    "## Exploratory Analysis & Preprocessing\n",
    "#### Trip duration"
   ]
  },
  {
   "cell_type": "code",
   "execution_count": 4,
   "metadata": {
    "execution": {
     "iopub.execute_input": "2022-05-24T06:28:14.524235Z",
     "iopub.status.busy": "2022-05-24T06:28:14.523228Z",
     "iopub.status.idle": "2022-05-24T06:28:31.487754Z",
     "shell.execute_reply": "2022-05-24T06:28:31.485745Z",
     "shell.execute_reply.started": "2022-05-24T06:28:14.524235Z"
    },
    "tags": []
   },
   "outputs": [],
   "source": [
    "data[\"duration\"] = (\n",
    "    pd.to_datetime(data[\"dropOff_datetime\"]) - \n",
    "    pd.to_datetime(data[\"pickup_datetime\"])\n",
    ")\n",
    "data[\"duration\"] = data.duration.apply(lambda x: x.total_seconds() / 60)"
   ]
  },
  {
   "cell_type": "code",
   "execution_count": 5,
   "metadata": {
    "execution": {
     "iopub.execute_input": "2022-05-24T06:28:31.491465Z",
     "iopub.status.busy": "2022-05-24T06:28:31.490454Z",
     "iopub.status.idle": "2022-05-24T06:28:31.708056Z",
     "shell.execute_reply": "2022-05-24T06:28:31.703040Z",
     "shell.execute_reply.started": "2022-05-24T06:28:31.491465Z"
    },
    "tags": []
   },
   "outputs": [
    {
     "data": {
      "text/html": [
       "<div>\n",
       "<style scoped>\n",
       "    .dataframe tbody tr th:only-of-type {\n",
       "        vertical-align: middle;\n",
       "    }\n",
       "\n",
       "    .dataframe tbody tr th {\n",
       "        vertical-align: top;\n",
       "    }\n",
       "\n",
       "    .dataframe thead th {\n",
       "        text-align: right;\n",
       "    }\n",
       "</style>\n",
       "<table border=\"1\" class=\"dataframe\">\n",
       "  <thead>\n",
       "    <tr style=\"text-align: right;\">\n",
       "      <th></th>\n",
       "      <th>dispatching_base_num</th>\n",
       "      <th>pickup_datetime</th>\n",
       "      <th>dropOff_datetime</th>\n",
       "      <th>PUlocationID</th>\n",
       "      <th>DOlocationID</th>\n",
       "      <th>SR_Flag</th>\n",
       "      <th>Affiliated_base_number</th>\n",
       "      <th>duration</th>\n",
       "    </tr>\n",
       "  </thead>\n",
       "  <tbody>\n",
       "    <tr>\n",
       "      <th>845521</th>\n",
       "      <td>B01083</td>\n",
       "      <td>2021-01-23 20:09:03</td>\n",
       "      <td>2021-01-23 20:32:29</td>\n",
       "      <td>NaN</td>\n",
       "      <td>32.0</td>\n",
       "      <td>None</td>\n",
       "      <td>B01083</td>\n",
       "      <td>23.433333</td>\n",
       "    </tr>\n",
       "    <tr>\n",
       "      <th>221185</th>\n",
       "      <td>B01231</td>\n",
       "      <td>2021-01-07 12:50:19</td>\n",
       "      <td>2021-01-07 13:05:52</td>\n",
       "      <td>NaN</td>\n",
       "      <td>112.0</td>\n",
       "      <td>None</td>\n",
       "      <td>B02872</td>\n",
       "      <td>15.550000</td>\n",
       "    </tr>\n",
       "    <tr>\n",
       "      <th>782925</th>\n",
       "      <td>B01236</td>\n",
       "      <td>2021-01-22 08:51:00</td>\n",
       "      <td>2021-01-22 09:26:00</td>\n",
       "      <td>NaN</td>\n",
       "      <td>NaN</td>\n",
       "      <td>None</td>\n",
       "      <td>B01236</td>\n",
       "      <td>35.000000</td>\n",
       "    </tr>\n",
       "    <tr>\n",
       "      <th>129032</th>\n",
       "      <td>B01958</td>\n",
       "      <td>2021-01-05 09:07:00</td>\n",
       "      <td>2021-01-05 09:49:00</td>\n",
       "      <td>NaN</td>\n",
       "      <td>NaN</td>\n",
       "      <td>None</td>\n",
       "      <td>B01958</td>\n",
       "      <td>42.000000</td>\n",
       "    </tr>\n",
       "    <tr>\n",
       "      <th>324960</th>\n",
       "      <td>B00350</td>\n",
       "      <td>2021-01-10 10:05:08</td>\n",
       "      <td>2021-01-10 10:18:07</td>\n",
       "      <td>NaN</td>\n",
       "      <td>173.0</td>\n",
       "      <td>None</td>\n",
       "      <td>B00350</td>\n",
       "      <td>12.983333</td>\n",
       "    </tr>\n",
       "  </tbody>\n",
       "</table>\n",
       "</div>"
      ],
      "text/plain": [
       "       dispatching_base_num     pickup_datetime    dropOff_datetime  \\\n",
       "845521               B01083 2021-01-23 20:09:03 2021-01-23 20:32:29   \n",
       "221185               B01231 2021-01-07 12:50:19 2021-01-07 13:05:52   \n",
       "782925               B01236 2021-01-22 08:51:00 2021-01-22 09:26:00   \n",
       "129032               B01958 2021-01-05 09:07:00 2021-01-05 09:49:00   \n",
       "324960               B00350 2021-01-10 10:05:08 2021-01-10 10:18:07   \n",
       "\n",
       "        PUlocationID  DOlocationID SR_Flag Affiliated_base_number   duration  \n",
       "845521           NaN          32.0    None                 B01083  23.433333  \n",
       "221185           NaN         112.0    None                 B02872  15.550000  \n",
       "782925           NaN           NaN    None                 B01236  35.000000  \n",
       "129032           NaN           NaN    None                 B01958  42.000000  \n",
       "324960           NaN         173.0    None                 B00350  12.983333  "
      ]
     },
     "execution_count": 5,
     "metadata": {},
     "output_type": "execute_result"
    }
   ],
   "source": [
    "data.sample(5)"
   ]
  },
  {
   "cell_type": "code",
   "execution_count": 6,
   "metadata": {
    "execution": {
     "iopub.execute_input": "2022-05-24T06:28:31.712657Z",
     "iopub.status.busy": "2022-05-24T06:28:31.711054Z",
     "iopub.status.idle": "2022-05-24T06:28:31.737084Z",
     "shell.execute_reply": "2022-05-24T06:28:31.735069Z",
     "shell.execute_reply.started": "2022-05-24T06:28:31.712657Z"
    },
    "tags": []
   },
   "outputs": [
    {
     "data": {
      "text/plain": [
       "19.1672240937939"
      ]
     },
     "execution_count": 6,
     "metadata": {},
     "output_type": "execute_result"
    }
   ],
   "source": [
    "data[\"duration\"].mean()"
   ]
  },
  {
   "cell_type": "code",
   "execution_count": 7,
   "metadata": {
    "execution": {
     "iopub.execute_input": "2022-05-24T06:28:31.739712Z",
     "iopub.status.busy": "2022-05-24T06:28:31.738083Z",
     "iopub.status.idle": "2022-05-24T06:28:46.077513Z",
     "shell.execute_reply": "2022-05-24T06:28:46.075501Z",
     "shell.execute_reply.started": "2022-05-24T06:28:31.739712Z"
    },
    "tags": []
   },
   "outputs": [
    {
     "data": {
      "image/png": "[encoded data removed]",
      "text/plain": [
       "<Figure size 432x288 with 1 Axes>"
      ]
     },
     "metadata": {
      "needs_background": "light"
     },
     "output_type": "display_data"
    },
    {
     "name": "stdout",
     "output_type": "stream",
     "text": [
      "Wall time: 14.3 s\n"
     ]
    }
   ],
   "source": [
    "%%time\n",
    "sns.histplot(x=data[\"duration\"].values, bins=30)\n",
    "sns.rugplot(x=data[\"duration\"].values)\n",
    "plt.show()"
   ]
  },
  {
   "cell_type": "code",
   "execution_count": 8,
   "metadata": {
    "execution": {
     "iopub.execute_input": "2022-05-24T06:28:46.081107Z",
     "iopub.status.busy": "2022-05-24T06:28:46.079526Z",
     "iopub.status.idle": "2022-05-24T06:28:46.233727Z",
     "shell.execute_reply": "2022-05-24T06:28:46.230679Z",
     "shell.execute_reply.started": "2022-05-24T06:28:46.081107Z"
    },
    "tags": []
   },
   "outputs": [
    {
     "data": {
      "text/html": [
       "<div>\n",
       "<style scoped>\n",
       "    .dataframe tbody tr th:only-of-type {\n",
       "        vertical-align: middle;\n",
       "    }\n",
       "\n",
       "    .dataframe tbody tr th {\n",
       "        vertical-align: top;\n",
       "    }\n",
       "\n",
       "    .dataframe thead th {\n",
       "        text-align: right;\n",
       "    }\n",
       "</style>\n",
       "<table border=\"1\" class=\"dataframe\">\n",
       "  <thead>\n",
       "    <tr style=\"text-align: right;\">\n",
       "      <th></th>\n",
       "      <th>PUlocationID</th>\n",
       "      <th>DOlocationID</th>\n",
       "      <th>duration</th>\n",
       "    </tr>\n",
       "  </thead>\n",
       "  <tbody>\n",
       "    <tr>\n",
       "      <th>count</th>\n",
       "      <td>195845.0</td>\n",
       "      <td>991892.0</td>\n",
       "      <td>1154112.0</td>\n",
       "    </tr>\n",
       "    <tr>\n",
       "      <th>mean</th>\n",
       "      <td>140.0</td>\n",
       "      <td>136.0</td>\n",
       "      <td>19.0</td>\n",
       "    </tr>\n",
       "    <tr>\n",
       "      <th>std</th>\n",
       "      <td>75.0</td>\n",
       "      <td>80.0</td>\n",
       "      <td>399.0</td>\n",
       "    </tr>\n",
       "    <tr>\n",
       "      <th>min</th>\n",
       "      <td>1.0</td>\n",
       "      <td>1.0</td>\n",
       "      <td>0.0</td>\n",
       "    </tr>\n",
       "    <tr>\n",
       "      <th>25%</th>\n",
       "      <td>75.0</td>\n",
       "      <td>67.0</td>\n",
       "      <td>8.0</td>\n",
       "    </tr>\n",
       "    <tr>\n",
       "      <th>50%</th>\n",
       "      <td>143.0</td>\n",
       "      <td>132.0</td>\n",
       "      <td>13.0</td>\n",
       "    </tr>\n",
       "    <tr>\n",
       "      <th>75%</th>\n",
       "      <td>206.0</td>\n",
       "      <td>213.0</td>\n",
       "      <td>22.0</td>\n",
       "    </tr>\n",
       "    <tr>\n",
       "      <th>max</th>\n",
       "      <td>265.0</td>\n",
       "      <td>265.0</td>\n",
       "      <td>423371.0</td>\n",
       "    </tr>\n",
       "  </tbody>\n",
       "</table>\n",
       "</div>"
      ],
      "text/plain": [
       "       PUlocationID  DOlocationID   duration\n",
       "count      195845.0      991892.0  1154112.0\n",
       "mean          140.0         136.0       19.0\n",
       "std            75.0          80.0      399.0\n",
       "min             1.0           1.0        0.0\n",
       "25%            75.0          67.0        8.0\n",
       "50%           143.0         132.0       13.0\n",
       "75%           206.0         213.0       22.0\n",
       "max           265.0         265.0   423371.0"
      ]
     },
     "execution_count": 8,
     "metadata": {},
     "output_type": "execute_result"
    }
   ],
   "source": [
    "data.describe().round()"
   ]
  },
  {
   "cell_type": "code",
   "execution_count": 9,
   "metadata": {
    "execution": {
     "iopub.execute_input": "2022-05-24T06:28:46.236744Z",
     "iopub.status.busy": "2022-05-24T06:28:46.235740Z",
     "iopub.status.idle": "2022-05-24T06:28:46.371294Z",
     "shell.execute_reply": "2022-05-24T06:28:46.370205Z",
     "shell.execute_reply.started": "2022-05-24T06:28:46.236744Z"
    },
    "tags": []
   },
   "outputs": [
    {
     "data": {
      "text/plain": [
       "44286"
      ]
     },
     "execution_count": 9,
     "metadata": {},
     "output_type": "execute_result"
    }
   ],
   "source": [
    "mask = (data.duration <= 60) & (data.duration >= 1.0)\n",
    "len(data) - len(data.loc[mask])"
   ]
  },
  {
   "cell_type": "code",
   "execution_count": 10,
   "metadata": {
    "execution": {
     "iopub.execute_input": "2022-05-24T06:28:46.378321Z",
     "iopub.status.busy": "2022-05-24T06:28:46.378321Z",
     "iopub.status.idle": "2022-05-24T06:28:46.558380Z",
     "shell.execute_reply": "2022-05-24T06:28:46.555384Z",
     "shell.execute_reply.started": "2022-05-24T06:28:46.378321Z"
    },
    "tags": []
   },
   "outputs": [],
   "source": [
    "data = data.loc[mask]"
   ]
  },
  {
   "cell_type": "markdown",
   "metadata": {},
   "source": [
    "#### Missing values"
   ]
  },
  {
   "cell_type": "code",
   "execution_count": 11,
   "metadata": {
    "execution": {
     "iopub.execute_input": "2022-05-24T06:28:46.566069Z",
     "iopub.status.busy": "2022-05-24T06:28:46.564070Z",
     "iopub.status.idle": "2022-05-24T06:28:47.261342Z",
     "shell.execute_reply": "2022-05-24T06:28:47.260342Z",
     "shell.execute_reply.started": "2022-05-24T06:28:46.566069Z"
    },
    "tags": []
   },
   "outputs": [
    {
     "data": {
      "text/plain": [
       "dispatching_base_num        0.000000\n",
       "pickup_datetime             0.000000\n",
       "dropOff_datetime            0.000000\n",
       "PUlocationID               83.527328\n",
       "DOlocationID               13.327044\n",
       "SR_Flag                   100.000000\n",
       "Affiliated_base_number      0.069651\n",
       "duration                    0.000000\n",
       "dtype: float64"
      ]
     },
     "execution_count": 11,
     "metadata": {},
     "output_type": "execute_result"
    }
   ],
   "source": [
    "(data.isna().sum() / len(data)) * 100"
   ]
  },
  {
   "cell_type": "code",
   "execution_count": 12,
   "metadata": {
    "execution": {
     "iopub.execute_input": "2022-05-24T06:28:47.263335Z",
     "iopub.status.busy": "2022-05-24T06:28:47.263335Z",
     "iopub.status.idle": "2022-05-24T06:28:47.325517Z",
     "shell.execute_reply": "2022-05-24T06:28:47.323520Z",
     "shell.execute_reply.started": "2022-05-24T06:28:47.263335Z"
    },
    "tags": []
   },
   "outputs": [],
   "source": [
    "data[[\"PUlocationID\",\"DOlocationID\"]] = data[[\"PUlocationID\",\"DOlocationID\"]].fillna(-1)"
   ]
  },
  {
   "cell_type": "markdown",
   "metadata": {},
   "source": [
    "## Modeling"
   ]
  },
  {
   "cell_type": "markdown",
   "metadata": {},
   "source": [
    "#### Encoding"
   ]
  },
  {
   "cell_type": "code",
   "execution_count": 13,
   "metadata": {
    "execution": {
     "iopub.execute_input": "2022-05-24T06:28:47.327519Z",
     "iopub.status.busy": "2022-05-24T06:28:47.327519Z",
     "iopub.status.idle": "2022-05-24T06:28:47.341979Z",
     "shell.execute_reply": "2022-05-24T06:28:47.339947Z",
     "shell.execute_reply.started": "2022-05-24T06:28:47.327519Z"
    }
   },
   "outputs": [],
   "source": [
    "features = [\"PUlocationID\",\"DOlocationID\"]\n",
    "target = \"duration\""
   ]
  },
  {
   "cell_type": "code",
   "execution_count": 14,
   "metadata": {
    "execution": {
     "iopub.execute_input": "2022-05-24T06:28:47.344001Z",
     "iopub.status.busy": "2022-05-24T06:28:47.342990Z",
     "iopub.status.idle": "2022-05-24T06:28:48.778273Z",
     "shell.execute_reply": "2022-05-24T06:28:48.777266Z",
     "shell.execute_reply.started": "2022-05-24T06:28:47.344001Z"
    },
    "tags": []
   },
   "outputs": [],
   "source": [
    "X_train = data[features].astype(str)\n",
    "y_train = data[target].values"
   ]
  },
  {
   "cell_type": "code",
   "execution_count": 15,
   "metadata": {
    "execution": {
     "iopub.execute_input": "2022-05-24T06:28:48.781899Z",
     "iopub.status.busy": "2022-05-24T06:28:48.781899Z",
     "iopub.status.idle": "2022-05-24T06:28:52.999864Z",
     "shell.execute_reply": "2022-05-24T06:28:52.998853Z",
     "shell.execute_reply.started": "2022-05-24T06:28:48.781899Z"
    },
    "tags": []
   },
   "outputs": [],
   "source": [
    "train_dicts = X_train.to_dict(orient=\"records\")"
   ]
  },
  {
   "cell_type": "code",
   "execution_count": 16,
   "metadata": {
    "execution": {
     "iopub.execute_input": "2022-05-24T06:28:53.002914Z",
     "iopub.status.busy": "2022-05-24T06:28:53.002914Z",
     "iopub.status.idle": "2022-05-24T06:28:58.294926Z",
     "shell.execute_reply": "2022-05-24T06:28:58.292345Z",
     "shell.execute_reply.started": "2022-05-24T06:28:53.002914Z"
    },
    "tags": []
   },
   "outputs": [],
   "source": [
    "vectorizer = DictVectorizer()\n",
    "X_train = vectorizer.fit_transform(train_dicts)"
   ]
  },
  {
   "cell_type": "code",
   "execution_count": 17,
   "metadata": {
    "execution": {
     "iopub.execute_input": "2022-05-24T06:28:58.297961Z",
     "iopub.status.busy": "2022-05-24T06:28:58.297961Z",
     "iopub.status.idle": "2022-05-24T06:28:58.325194Z",
     "shell.execute_reply": "2022-05-24T06:28:58.323192Z",
     "shell.execute_reply.started": "2022-05-24T06:28:58.297961Z"
    },
    "tags": []
   },
   "outputs": [
    {
     "data": {
      "text/plain": [
       "525"
      ]
     },
     "execution_count": 17,
     "metadata": {},
     "output_type": "execute_result"
    }
   ],
   "source": [
    "len(vectorizer.feature_names_)"
   ]
  },
  {
   "cell_type": "markdown",
   "metadata": {},
   "source": [
    "#### Training"
   ]
  },
  {
   "cell_type": "code",
   "execution_count": 18,
   "metadata": {
    "execution": {
     "iopub.execute_input": "2022-05-24T06:28:58.330831Z",
     "iopub.status.busy": "2022-05-24T06:28:58.328828Z",
     "iopub.status.idle": "2022-05-24T06:29:21.822250Z",
     "shell.execute_reply": "2022-05-24T06:29:21.820254Z",
     "shell.execute_reply.started": "2022-05-24T06:28:58.330831Z"
    }
   },
   "outputs": [
    {
     "data": {
      "text/plain": [
       "LinearRegression()"
      ]
     },
     "execution_count": 18,
     "metadata": {},
     "output_type": "execute_result"
    }
   ],
   "source": [
    "regressor = LinearRegression()\n",
    "regressor.fit(X_train, y_train)"
   ]
  },
  {
   "cell_type": "code",
   "execution_count": 19,
   "metadata": {
    "execution": {
     "iopub.execute_input": "2022-05-24T06:29:21.825835Z",
     "iopub.status.busy": "2022-05-24T06:29:21.824251Z",
     "iopub.status.idle": "2022-05-24T06:29:21.886373Z",
     "shell.execute_reply": "2022-05-24T06:29:21.884379Z",
     "shell.execute_reply.started": "2022-05-24T06:29:21.825835Z"
    },
    "tags": []
   },
   "outputs": [
    {
     "name": "stdout",
     "output_type": "stream",
     "text": [
      "Error: 10.528519107202131\n"
     ]
    }
   ],
   "source": [
    "y_train_pred = regressor.predict(X_train)\n",
    "print(\"Error:\", mean_squared_error(y_train, y_train_pred, squared=False))"
   ]
  },
  {
   "cell_type": "markdown",
   "metadata": {
    "tags": []
   },
   "source": [
    "#### Evaluation"
   ]
  },
  {
   "cell_type": "code",
   "execution_count": 20,
   "metadata": {
    "execution": {
     "iopub.execute_input": "2022-05-24T06:29:21.889968Z",
     "iopub.status.busy": "2022-05-24T06:29:21.889968Z",
     "iopub.status.idle": "2022-05-24T06:29:22.417839Z",
     "shell.execute_reply": "2022-05-24T06:29:22.414830Z",
     "shell.execute_reply.started": "2022-05-24T06:29:21.889968Z"
    },
    "tags": []
   },
   "outputs": [],
   "source": [
    "data_val = pd.read_parquet(r\"Data\\fhv_tripdata_2021-02.parquet\")"
   ]
  },
  {
   "cell_type": "code",
   "execution_count": 21,
   "metadata": {
    "execution": {
     "iopub.execute_input": "2022-05-24T06:29:22.420838Z",
     "iopub.status.busy": "2022-05-24T06:29:22.419836Z",
     "iopub.status.idle": "2022-05-24T06:29:23.288911Z",
     "shell.execute_reply": "2022-05-24T06:29:23.285934Z",
     "shell.execute_reply.started": "2022-05-24T06:29:22.420838Z"
    },
    "tags": []
   },
   "outputs": [
    {
     "name": "stdout",
     "output_type": "stream",
     "text": [
      "<class 'pandas.core.frame.DataFrame'>\n",
      "RangeIndex: 1037692 entries, 0 to 1037691\n",
      "Data columns (total 7 columns):\n",
      " #   Column                  Non-Null Count    Dtype         \n",
      "---  ------                  --------------    -----         \n",
      " 0   dispatching_base_num    1037692 non-null  object        \n",
      " 1   pickup_datetime         1037692 non-null  datetime64[ns]\n",
      " 2   dropOff_datetime        1037692 non-null  datetime64[ns]\n",
      " 3   PUlocationID            153001 non-null   float64       \n",
      " 4   DOlocationID            885340 non-null   float64       \n",
      " 5   SR_Flag                 0 non-null        object        \n",
      " 6   Affiliated_base_number  1037692 non-null  object        \n",
      "dtypes: datetime64[ns](2), float64(2), object(3)\n",
      "memory usage: 55.4+ MB\n"
     ]
    }
   ],
   "source": [
    "data_val.info()"
   ]
  },
  {
   "cell_type": "code",
   "execution_count": 22,
   "metadata": {
    "execution": {
     "iopub.execute_input": "2022-05-24T06:29:23.291943Z",
     "iopub.status.busy": "2022-05-24T06:29:23.290928Z",
     "iopub.status.idle": "2022-05-24T06:29:41.519325Z",
     "shell.execute_reply": "2022-05-24T06:29:41.518291Z",
     "shell.execute_reply.started": "2022-05-24T06:29:23.291943Z"
    },
    "tags": []
   },
   "outputs": [],
   "source": [
    "# Preprocessing\n",
    "data_val[\"duration\"] = (\n",
    "    pd.to_datetime(data_val[\"dropOff_datetime\"]) - \n",
    "    pd.to_datetime(data_val[\"pickup_datetime\"])\n",
    ")\n",
    "data_val[\"duration\"] = data_val[\"duration\"] .apply(lambda x: x.total_seconds() / 60)\n",
    "duration_mask = (data_val[\"duration\"] <= 60) & (data_val[\"duration\"] >= 1.0)\n",
    "data_val = data_val.loc[duration_mask]\n",
    "data_val[[\"PUlocationID\",\"DOlocationID\"]] = data_val[[\"PUlocationID\",\"DOlocationID\"]].fillna(-1)"
   ]
  },
  {
   "cell_type": "code",
   "execution_count": 23,
   "metadata": {
    "execution": {
     "iopub.execute_input": "2022-05-24T06:29:41.523317Z",
     "iopub.status.busy": "2022-05-24T06:29:41.521310Z",
     "iopub.status.idle": "2022-05-24T06:29:42.674839Z",
     "shell.execute_reply": "2022-05-24T06:29:42.673792Z",
     "shell.execute_reply.started": "2022-05-24T06:29:41.523317Z"
    }
   },
   "outputs": [],
   "source": [
    "X_val = data_val[features].astype(str)\n",
    "y_val = data_val[target].values"
   ]
  },
  {
   "cell_type": "code",
   "execution_count": 24,
   "metadata": {
    "execution": {
     "iopub.execute_input": "2022-05-24T06:29:42.677834Z",
     "iopub.status.busy": "2022-05-24T06:29:42.676847Z",
     "iopub.status.idle": "2022-05-24T06:29:49.882469Z",
     "shell.execute_reply": "2022-05-24T06:29:49.880385Z",
     "shell.execute_reply.started": "2022-05-24T06:29:42.677834Z"
    }
   },
   "outputs": [],
   "source": [
    "val_dicts = X_val.to_dict(orient=\"records\")\n",
    "X_val = vectorizer.transform(val_dicts)"
   ]
  },
  {
   "cell_type": "code",
   "execution_count": 25,
   "metadata": {
    "execution": {
     "iopub.execute_input": "2022-05-24T06:29:49.885437Z",
     "iopub.status.busy": "2022-05-24T06:29:49.884447Z",
     "iopub.status.idle": "2022-05-24T06:29:49.929915Z",
     "shell.execute_reply": "2022-05-24T06:29:49.927924Z",
     "shell.execute_reply.started": "2022-05-24T06:29:49.885437Z"
    },
    "tags": []
   },
   "outputs": [
    {
     "name": "stdout",
     "output_type": "stream",
     "text": [
      "Error: 11.01428311525346\n"
     ]
    }
   ],
   "source": [
    "y_val_pred = regressor.predict(X_val)\n",
    "print(\"Error:\", mean_squared_error(y_val, y_val_pred, squared=False))"
   ]
  }
 ],
 "metadata": {
  "interpreter": {
   "hash": "1c1f5d6270ceba04d4dfb7f47ac8a34a64e66b7fde0b298014fbc8399f4bc6fa"
  },
  "kernelspec": {
   "display_name": "Python 3",
   "language": "python",
   "name": "python3"
  },
  "language_info": {
   "codemirror_mode": {
    "name": "ipython",
    "version": 3
   },
   "file_extension": ".py",
   "mimetype": "text/x-python",
   "name": "python",
   "nbconvert_exporter": "python",
   "pygments_lexer": "ipython3",
   "version": "3.9.7"
  }
 },
 "nbformat": 4,
 "nbformat_minor": 4
}
